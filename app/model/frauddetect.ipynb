{
 "cells": [
  {
   "cell_type": "code",
   "execution_count": 3,
   "id": "cf63a554",
   "metadata": {},
   "outputs": [
    {
     "data": {
      "text/plain": [
       "['fraud_model.joblib']"
      ]
     },
     "execution_count": 3,
     "metadata": {},
     "output_type": "execute_result"
    }
   ],
   "source": [
    "import pandas as pd\n",
    "from sklearn.model_selection import train_test_split\n",
    "from sklearn.pipeline import Pipeline\n",
    "from sklearn.preprocessing import StandardScaler, LabelEncoder\n",
    "from sklearn.ensemble import RandomForestClassifier\n",
    "from joblib import dump\n",
    "\n",
    "# Load and preprocess data\n",
    "df = pd.read_csv('fraud_detection_dataset.csv')\n",
    "col1 = df.columns[0]\n",
    "df = df.drop(col1, axis=1)\n",
    "col2 = df.columns[4]\n",
    "df = df.drop(col2, axis=1)\n",
    "col3 = df.columns[3]\n",
    "df = df.drop(col3, axis=1)\n",
    "col4 = df.columns[5]\n",
    "df = df.drop(col4, axis=1)\n",
    "\n",
    "X = df.drop('Fraudulent', axis=1)\n",
    "y = LabelEncoder().fit_transform(df['Fraudulent'])\n",
    "\n",
    "X_train, X_test, y_train, y_test = train_test_split(X, y, test_size=0.2, random_state=42)\n",
    "\n",
    "# Train and save the model\n",
    "pipeline = Pipeline([\n",
    "    ('scaler', StandardScaler()),\n",
    "    ('clf', RandomForestClassifier())\n",
    "])\n",
    "pipeline.fit(X_train, y_train)\n",
    "\n",
    "# Save the pipeline\n",
    "dump(pipeline, 'fraud_model.joblib')"
   ]
  }
 ],
 "metadata": {
  "kernelspec": {
   "display_name": "base",
   "language": "python",
   "name": "python3"
  },
  "language_info": {
   "codemirror_mode": {
    "name": "ipython",
    "version": 3
   },
   "file_extension": ".py",
   "mimetype": "text/x-python",
   "name": "python",
   "nbconvert_exporter": "python",
   "pygments_lexer": "ipython3",
   "version": "3.12.3"
  }
 },
 "nbformat": 4,
 "nbformat_minor": 5
}
